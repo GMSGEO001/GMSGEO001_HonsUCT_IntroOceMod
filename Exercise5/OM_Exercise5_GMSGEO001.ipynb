{
 "cells": [
  {
   "cell_type": "markdown",
   "id": "56146261-bda7-42a6-b65b-ba6608a91deb",
   "metadata": {},
   "source": [
    "# Exercise 5:\n",
    "\n",
    "Georgina Gomes GMSGEO001\n",
    "\n",
    "Consider the implicit Euler backward scheme $C^{n+1} = \\frac{C^n}{(1+k\\Delta t)}$"
   ]
  },
  {
   "cell_type": "markdown",
   "id": "34a41de6-eced-4d34-9e06-124100c05dcd",
   "metadata": {},
   "source": [
    "## Proof that this scheme is unconditionally stable:\n",
    "\n",
    "A numerical scheme is stable if it does not diverge with time.\n",
    "\n",
    "$C^{n+1}$ and $C^n$ are concentrations, so they cannot physically be negative values, hence $(1+k\\Delta t)> 0$ is the \"conditional\" stability for the implicit numerical scheme: $k\\Delta t > -1 \\Rightarrow \\Delta t > -\\frac{1}{k}$. For every value of $\\Delta t$ this will be the case so this scheme is unconditionally stable.\n",
    "\n",
    "Since $k>0$ and $\\Delta t > 0$, $(1+k\\Delta t)$ is always positive, i.e. $(1+k\\Delta t)> 0$ is true & therefore this scheme is unconditionally stable."
   ]
  },
  {
   "cell_type": "code",
   "execution_count": null,
   "id": "4ba88725-3d14-475a-99d5-06d7dbb5d536",
   "metadata": {},
   "outputs": [],
   "source": []
  }
 ],
 "metadata": {
  "kernelspec": {
   "display_name": "Python 3 (ipykernel)",
   "language": "python",
   "name": "python3"
  },
  "language_info": {
   "codemirror_mode": {
    "name": "ipython",
    "version": 3
   },
   "file_extension": ".py",
   "mimetype": "text/x-python",
   "name": "python",
   "nbconvert_exporter": "python",
   "pygments_lexer": "ipython3",
   "version": "3.12.2"
  }
 },
 "nbformat": 4,
 "nbformat_minor": 5
}
