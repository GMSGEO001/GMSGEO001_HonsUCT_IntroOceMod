{
 "cells": [
  {
   "cell_type": "markdown",
   "id": "86e3e9fb-22dc-4f7d-95c8-d35d003fc878",
   "metadata": {},
   "source": [
    "# Exercise 13: discretizing the Ekman equations\n",
    "\n",
    "Georgina Gomes GMSGEO001"
   ]
  },
  {
   "cell_type": "code",
   "execution_count": 4,
   "id": "4eff817b-33e3-4553-a2a2-030834be3a0b",
   "metadata": {},
   "outputs": [],
   "source": [
    "from IPython.display import display, Math"
   ]
  },
  {
   "cell_type": "markdown",
   "id": "2b2b3693-2ce1-4d9f-a1e0-0c517a3cc66a",
   "metadata": {},
   "source": [
    "## Set of dynamical equations:\n",
    "\n",
    "### $\\frac{\\partial u_E}{\\partial t} - fv_E = A_v\\frac{\\partial^2 u_E}{\\partial z^2}$\n",
    "\n",
    "### $\\frac{\\partial v_E}{\\partial t} + fu_E = A_v\\frac{\\partial^2 v_E}{\\partial z^2}$"
   ]
  },
  {
   "cell_type": "markdown",
   "id": "d46086fd-e48b-47c6-8866-806f099883b5",
   "metadata": {},
   "source": [
    "## Part 1: Discretized form of the equations for the zonal and meridional components:"
   ]
  },
  {
   "cell_type": "markdown",
   "id": "39bb7d2f-3ab9-4623-847a-f33688ab4b28",
   "metadata": {},
   "source": [
    "The vertical grid starts at the surface with $z_0 = 0$ and $z_k = z_0 - k\\Delta z$; time is discretized with $t_n = t_0 + n\\Delta t$."
   ]
  },
  {
   "cell_type": "markdown",
   "id": "96be0c10-df3d-4cd6-8541-ff4034e72798",
   "metadata": {},
   "source": [
    "### $\\frac{\\partial v_E}{\\partial t} = \\frac{{v^{n+1}}_k - {v^n}_k}{\\Delta t} + \\mathcal{O}(\\Delta t)$ "
   ]
  },
  {
   "cell_type": "markdown",
   "id": "1d05a53b-c006-4006-a9a4-6e397e273193",
   "metadata": {},
   "source": [
    "### $\\frac{\\partial u_E}{\\partial t} = \\frac{{u^{n+1}}_k - {u^n}_k}{\\Delta t} + \\mathcal{O}(\\Delta t)$"
   ]
  },
  {
   "cell_type": "markdown",
   "id": "5b5105e6-e24d-4166-92e7-a329ed0dfa48",
   "metadata": {},
   "source": [
    "### $\\frac{\\partial^2 u_E}{\\partial z^2} = \\frac{{u_{k+1}}^n - 2{u^n}_k + {u^n}_{k-1}}{\\Delta z^2} + \\mathcal{O}(\\Delta z)$"
   ]
  },
  {
   "cell_type": "markdown",
   "id": "ace2f403-121d-4fa8-a73c-ab3a53623a89",
   "metadata": {},
   "source": [
    "### $\\frac{\\partial^2 v_E}{\\partial z^2} = \\frac{{v_{k+1}}^n - 2{v_k}^n + {v_{k-1}}^n}{\\Delta z^2} + \\mathcal{O}(\\Delta z)$"
   ]
  },
  {
   "cell_type": "markdown",
   "id": "20aa9e79-f5af-42c6-802d-4d2ca0d82ea0",
   "metadata": {},
   "source": [
    "Substituting these discrete forms into the dynamical equations we get:"
   ]
  },
  {
   "cell_type": "markdown",
   "id": "2138be3f-b599-4f3a-89eb-51fde6ddea80",
   "metadata": {},
   "source": [
    "### ${u_k}^{n+1} = {u_k}^n + \\Delta t f {v_k}^n + \\frac{\\Delta t A_v}{\\Delta z^2}({u_{k+1}}^n - 2{u_k}^n + {u_{k-1}}^n)$"
   ]
  },
  {
   "cell_type": "markdown",
   "id": "e6797b61-b759-446b-8275-4812f293cdf8",
   "metadata": {},
   "source": [
    "### ${v_k}^{n+1} = {v_k}^n + \\frac{\\Delta t A_v}{\\Delta z^2}({v_{k+1}}^n - 2{v_k}^n + {v_{k-1}}^n) - \\Delta t f {u_k}^n$"
   ]
  },
  {
   "cell_type": "markdown",
   "id": "24c15772-e813-4369-b38f-985414cc5edd",
   "metadata": {},
   "source": [
    "## Part 2: Non-Dimensional Courant Number"
   ]
  },
  {
   "cell_type": "markdown",
   "id": "f0a66894-f115-445f-b4be-216ea8014a9e",
   "metadata": {},
   "source": [
    "#### The non-dimensional courant number based on the vertical viscosity $A_v$ is $\\frac{\\Delta t A_v}{\\Delta z^2}$"
   ]
  },
  {
   "cell_type": "markdown",
   "id": "6b63b647-6870-44e8-93d9-87fd57bb22c0",
   "metadata": {},
   "source": [
    "There is also a non-dimensional courant number related to the coriolis force which is $\\Delta t f$"
   ]
  },
  {
   "cell_type": "markdown",
   "id": "8d36873e-8327-40bd-84d9-7aab93cd6abc",
   "metadata": {},
   "source": [
    "Using the same method as previously used for the diffusion equations, FTCS solution and von Neumann stability analysis, suggests that \n",
    "\n",
    "### ${v_k}^n + \\frac{\\Delta t A_v}{\\Delta z^2}({v_{k+1}}^n - 2{v_k}^n + {v_{k-1}}^n) - \\Delta t f {u_k}^n \\geq 0$"
   ]
  },
  {
   "cell_type": "markdown",
   "id": "8cf5b5f6-6034-43b5-a2dd-8f0fcc41587d",
   "metadata": {},
   "source": [
    "and \n",
    "\n",
    "### ${u_k}^n + \\frac{\\Delta t A_v}{\\Delta z^2}({u_{k+1}}^n - 2{u_k}^n + {u_{k-1}}^n) - \\Delta t f {u_k}^n \\geq 0$"
   ]
  },
  {
   "cell_type": "markdown",
   "id": "7bd9f258-0db2-4542-8e87-2b97c221d7b2",
   "metadata": {},
   "source": [
    "#### Like in the diffusion equation we will take that $\\frac{\\Delta t A_v}{\\Delta z^2} \\leq \\frac{1}{2}$"
   ]
  },
  {
   "cell_type": "markdown",
   "id": "d84210ff-f0c2-43eb-975d-bca1af671808",
   "metadata": {},
   "source": [
    "If $A_v = 10^{-4} m^2/s$, $\\Delta z = 2m$ and $\\Delta t = 160s$ (like in grid slide)\n",
    "\n",
    "then we have "
   ]
  },
  {
   "cell_type": "code",
   "execution_count": 5,
   "id": "231a4b23-b387-4d5a-9ea6-81deedf93b4e",
   "metadata": {},
   "outputs": [],
   "source": [
    "def print_courant_number(A_v, dz, dt):\n",
    "    courant_number = (dt*A_v)/(dz**2)\n",
    "    if courant_number<=0.5:\n",
    "        display(Math(rf\"C = {courant_number} \\leq \\frac{1}{2} \\therefore stable$\"))\n",
    "    else:\n",
    "        display(Math(rf\"C = {courant_number} > \\frac{1}{2} \\therefore unstable$\"))\n",
    "    "
   ]
  },
  {
   "cell_type": "code",
   "execution_count": 6,
   "id": "bce841fb-c063-4554-aae6-78044705e82d",
   "metadata": {},
   "outputs": [
    {
     "data": {
      "text/latex": [
       "$\\displaystyle C = 0.016 \\leq \\frac12 \\therefore stable$"
      ],
      "text/plain": [
       "<IPython.core.display.Math object>"
      ]
     },
     "metadata": {},
     "output_type": "display_data"
    }
   ],
   "source": [
    "print_courant_number(0.0004, 2, 160)"
   ]
  },
  {
   "cell_type": "code",
   "execution_count": 7,
   "id": "ce3a6ce8-0ef3-43b9-91ad-91945184a4e0",
   "metadata": {},
   "outputs": [
    {
     "data": {
      "text/latex": [
       "$\\displaystyle C = 0.00256 \\leq \\frac12 \\therefore stable$"
      ],
      "text/plain": [
       "<IPython.core.display.Math object>"
      ]
     },
     "metadata": {},
     "output_type": "display_data"
    }
   ],
   "source": [
    "print_courant_number(0.0004, 5, 160)"
   ]
  },
  {
   "cell_type": "code",
   "execution_count": 8,
   "id": "9112decb-426d-471a-8497-632644fa8006",
   "metadata": {},
   "outputs": [
    {
     "data": {
      "text/latex": [
       "$\\displaystyle C = 0.032 \\leq \\frac12 \\therefore stable$"
      ],
      "text/plain": [
       "<IPython.core.display.Math object>"
      ]
     },
     "metadata": {},
     "output_type": "display_data"
    }
   ],
   "source": [
    "print_courant_number(0.0004, 2, 320)"
   ]
  },
  {
   "cell_type": "code",
   "execution_count": 9,
   "id": "877f538d-ae9f-478f-b15c-1f82a9222e82",
   "metadata": {},
   "outputs": [
    {
     "data": {
      "text/latex": [
       "$\\displaystyle C = 0.0032 \\leq \\frac12 \\therefore stable$"
      ],
      "text/plain": [
       "<IPython.core.display.Math object>"
      ]
     },
     "metadata": {},
     "output_type": "display_data"
    }
   ],
   "source": [
    "print_courant_number(0.0004, 20, 3200)"
   ]
  },
  {
   "cell_type": "code",
   "execution_count": 10,
   "id": "d008e182-2f65-4ff6-8bfe-407a6f48e43d",
   "metadata": {},
   "outputs": [
    {
     "data": {
      "text/latex": [
       "$\\displaystyle C = 0.32 \\leq \\frac12 \\therefore stable$"
      ],
      "text/plain": [
       "<IPython.core.display.Math object>"
      ]
     },
     "metadata": {},
     "output_type": "display_data"
    }
   ],
   "source": [
    "print_courant_number(0.0004, 2, 3200)"
   ]
  },
  {
   "cell_type": "code",
   "execution_count": 11,
   "id": "9d1051a5-419d-47c9-b855-f3013bfe4aa3",
   "metadata": {},
   "outputs": [
    {
     "data": {
      "text/latex": [
       "$\\displaystyle C = 0.4 \\leq \\frac12 \\therefore stable$"
      ],
      "text/plain": [
       "<IPython.core.display.Math object>"
      ]
     },
     "metadata": {},
     "output_type": "display_data"
    }
   ],
   "source": [
    "print_courant_number(0.0004, 2, 4000)"
   ]
  },
  {
   "cell_type": "code",
   "execution_count": 12,
   "id": "955c7b94-a66a-4e08-84f8-4543179e1f89",
   "metadata": {},
   "outputs": [
    {
     "data": {
      "text/latex": [
       "$\\displaystyle C = 0.6 > \\frac12 \\therefore unstable$"
      ],
      "text/plain": [
       "<IPython.core.display.Math object>"
      ]
     },
     "metadata": {},
     "output_type": "display_data"
    }
   ],
   "source": [
    "print_courant_number(0.0004, 2, 6000)"
   ]
  },
  {
   "cell_type": "code",
   "execution_count": 13,
   "id": "1ab5bedd-4d45-404f-a15f-b94f41cbbd9d",
   "metadata": {},
   "outputs": [
    {
     "data": {
      "text/latex": [
       "$\\displaystyle C = 0.5 \\leq \\frac12 \\therefore stable$"
      ],
      "text/plain": [
       "<IPython.core.display.Math object>"
      ]
     },
     "metadata": {},
     "output_type": "display_data"
    }
   ],
   "source": [
    "print_courant_number(0.0004, 2, 5000)"
   ]
  },
  {
   "cell_type": "markdown",
   "id": "3a5464d3-fd56-4eca-a105-e30ff86e5909",
   "metadata": {},
   "source": [
    "So for the case where $\\Delta z = 2$, the $\\Delta t$ is safe up until 5000 seconds."
   ]
  },
  {
   "cell_type": "code",
   "execution_count": 14,
   "id": "4321d9d8-eae4-4655-a9cf-4ed5ef8cb14a",
   "metadata": {},
   "outputs": [
    {
     "data": {
      "text/latex": [
       "$\\displaystyle C = 0.00256 \\leq \\frac12 \\therefore stable$"
      ],
      "text/plain": [
       "<IPython.core.display.Math object>"
      ]
     },
     "metadata": {},
     "output_type": "display_data"
    }
   ],
   "source": [
    "print_courant_number(0.0004, 5, 160)"
   ]
  },
  {
   "cell_type": "code",
   "execution_count": 15,
   "id": "39797f6a-917d-4143-b427-cf3581a7b218",
   "metadata": {},
   "outputs": [
    {
     "data": {
      "text/latex": [
       "$\\displaystyle C = 0.00064 \\leq \\frac12 \\therefore stable$"
      ],
      "text/plain": [
       "<IPython.core.display.Math object>"
      ]
     },
     "metadata": {},
     "output_type": "display_data"
    }
   ],
   "source": [
    "print_courant_number(0.0004, 10, 160)"
   ]
  },
  {
   "cell_type": "code",
   "execution_count": 16,
   "id": "e74b924b-b8b2-4a25-94e9-4d599ca90d14",
   "metadata": {},
   "outputs": [
    {
     "data": {
      "text/latex": [
       "$\\displaystyle C = 6.4e-06 \\leq \\frac12 \\therefore stable$"
      ],
      "text/plain": [
       "<IPython.core.display.Math object>"
      ]
     },
     "metadata": {},
     "output_type": "display_data"
    }
   ],
   "source": [
    "print_courant_number(0.0004, 100, 160)"
   ]
  },
  {
   "cell_type": "code",
   "execution_count": 17,
   "id": "8f6f378d-d3fd-4238-a09e-2c937cc080c4",
   "metadata": {},
   "outputs": [
    {
     "data": {
      "text/latex": [
       "$\\displaystyle C = 0.064 \\leq \\frac12 \\therefore stable$"
      ],
      "text/plain": [
       "<IPython.core.display.Math object>"
      ]
     },
     "metadata": {},
     "output_type": "display_data"
    }
   ],
   "source": [
    "print_courant_number(0.0004, 1, 160)"
   ]
  },
  {
   "cell_type": "code",
   "execution_count": 18,
   "id": "5ac763f9-2b04-4457-bd14-c30609d3c5a6",
   "metadata": {},
   "outputs": [
    {
     "data": {
      "text/latex": [
       "$\\displaystyle C = 0.256 \\leq \\frac12 \\therefore stable$"
      ],
      "text/plain": [
       "<IPython.core.display.Math object>"
      ]
     },
     "metadata": {},
     "output_type": "display_data"
    }
   ],
   "source": [
    "print_courant_number(0.0004, 0.5, 160)"
   ]
  },
  {
   "cell_type": "code",
   "execution_count": 19,
   "id": "7220bb70-c42f-41c5-a4a2-d5d30382eab7",
   "metadata": {},
   "outputs": [
    {
     "data": {
      "text/latex": [
       "$\\displaystyle C = 6.399999999999999 > \\frac12 \\therefore unstable$"
      ],
      "text/plain": [
       "<IPython.core.display.Math object>"
      ]
     },
     "metadata": {},
     "output_type": "display_data"
    }
   ],
   "source": [
    "print_courant_number(0.0004, 0.1, 160)"
   ]
  },
  {
   "cell_type": "markdown",
   "id": "87cb0492-3b54-4215-8b26-f4b034d41755",
   "metadata": {},
   "source": [
    "When $\\Delta t = 160s$ there is not much limitation on $\\Delta z $ at all, and it is only once $\\Delta z$ becomes very small, does the model become unstable."
   ]
  },
  {
   "cell_type": "code",
   "execution_count": null,
   "id": "04258a00-24e0-4d22-95c9-2ffca8441fc7",
   "metadata": {},
   "outputs": [],
   "source": []
  }
 ],
 "metadata": {
  "kernelspec": {
   "display_name": "Python 3 (ipykernel)",
   "language": "python",
   "name": "python3"
  },
  "language_info": {
   "codemirror_mode": {
    "name": "ipython",
    "version": 3
   },
   "file_extension": ".py",
   "mimetype": "text/x-python",
   "name": "python",
   "nbconvert_exporter": "python",
   "pygments_lexer": "ipython3",
   "version": "3.12.2"
  }
 },
 "nbformat": 4,
 "nbformat_minor": 5
}
