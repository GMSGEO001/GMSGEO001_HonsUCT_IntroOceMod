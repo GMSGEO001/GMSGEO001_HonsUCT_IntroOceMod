{
 "cells": [
  {
   "cell_type": "markdown",
   "id": "ab0a4e46-b6f1-430c-9632-2430c1174133",
   "metadata": {},
   "source": [
    "# Exercise 9\n",
    "\n",
    "Georgina Gomes GMSGEO001"
   ]
  },
  {
   "cell_type": "markdown",
   "id": "93c04556-2e07-4730-b774-cbc6e793e400",
   "metadata": {},
   "source": [
    "- Write the grid-based, discretized form of eq. (29), first defining the discrete time and space axes to be used as indices\n",
    "\n",
    "\n",
    "$t_n = ; x_i =$\n",
    "\n",
    "$\\frac{\\partial^2 U}{\\partial x^2} \\approx$\n",
    "\n",
    "\n",
    "- Given the discrete 3-D horizontal velocity field ${U^n}_{ijk}$, write the discretized form of eq. (33)"
   ]
  },
  {
   "cell_type": "markdown",
   "id": "f18fb3e3-3f8c-4bd2-bc5e-3b5004a63e03",
   "metadata": {},
   "source": [
    "## Part 1"
   ]
  },
  {
   "cell_type": "markdown",
   "id": "1444f0ce-25a7-4ab5-a71e-e6589cce0b14",
   "metadata": {},
   "source": [
    "### Grid-based, discretized form of $\\frac{\\partial^2 U}{\\partial x^2} = \\frac{U(x+\\Delta x) - 2U(x) + U(x_i - \\Delta x)}{\\Delta x^2} + \\mathcal{O}(\\Delta x)$:"
   ]
  },
  {
   "cell_type": "markdown",
   "id": "c3e50a34-fac3-4153-ae9c-c67c7d6c5ac2",
   "metadata": {},
   "source": [
    "Discrete space and time axes to be used as indices:\n",
    "\n",
    "$t^n = t_0 + n\\Delta t$; $x_i = x_0 + i\\Delta x$"
   ]
  },
  {
   "cell_type": "markdown",
   "id": "a7fdab3b-f229-4085-a5a1-40eecc0b7a11",
   "metadata": {},
   "source": [
    "### Discretized form: $\\frac{\\partial^2 U}{\\partial x^2} \\approx \\frac{{U^n}_{i+1} - 2{U_i}^n + {U^n}_{i-1}}{\\Delta x^2} + \\mathcal{O}(\\Delta x)$\n",
    "\n",
    "where \n",
    "- ${U^n}_{i+1} = U(x_i + \\Delta x, t^n)$\n",
    "- ${U^n}_{i} = U(x_i, t^n)$\n",
    "- ${U^n}_{i-1} = U(x_i - \\Delta x, t^n)$"
   ]
  },
  {
   "cell_type": "markdown",
   "id": "251e5e18-80eb-4d4c-8e5f-8c92a8334f72",
   "metadata": {},
   "source": [
    "## Part 2:"
   ]
  },
  {
   "cell_type": "markdown",
   "id": "aabf0e59-4d5d-4ec8-a814-c71e4acf2dc8",
   "metadata": {},
   "source": [
    "### Discretized form of $\\frac{\\partial U}{\\partial z} = \\frac{U(z_i + \\Delta z) - U(z_i - \\Delta z)}{2\\Delta z} + \\mathcal{O}(\\Delta z^2)$:"
   ]
  },
  {
   "cell_type": "markdown",
   "id": "41ae553b-59df-4d15-bcdf-175a73af21ce",
   "metadata": {},
   "source": [
    "### $\\frac{\\partial U}{\\partial z} \\approx \\frac{{U^n}_{k+1} - {U^n}_{k-1}}{2\\Delta z} + \\mathcal{O}(\\Delta z^2)$\n",
    "\n",
    "where \n",
    "- ${U^n}_{k+1} = U(z + \\Delta z, t^n)$\n",
    "- ${U^n}_{k-1} = U(z - \\Delta z, t^n)$"
   ]
  },
  {
   "cell_type": "code",
   "execution_count": null,
   "id": "b912c867-c0bf-4e94-a9dc-1d1fd3547260",
   "metadata": {},
   "outputs": [],
   "source": []
  }
 ],
 "metadata": {
  "kernelspec": {
   "display_name": "Python 3 (ipykernel)",
   "language": "python",
   "name": "python3"
  },
  "language_info": {
   "codemirror_mode": {
    "name": "ipython",
    "version": 3
   },
   "file_extension": ".py",
   "mimetype": "text/x-python",
   "name": "python",
   "nbconvert_exporter": "python",
   "pygments_lexer": "ipython3",
   "version": "3.12.2"
  }
 },
 "nbformat": 4,
 "nbformat_minor": 5
}
