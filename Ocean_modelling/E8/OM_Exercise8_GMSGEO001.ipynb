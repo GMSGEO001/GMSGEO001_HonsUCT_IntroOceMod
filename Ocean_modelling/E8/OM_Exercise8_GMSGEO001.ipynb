{
 "cells": [
  {
   "cell_type": "markdown",
   "id": "e9d99a39-7505-4431-9255-58bcb200a56d",
   "metadata": {},
   "source": [
    "# Exercise 8\n",
    "\n",
    "Georgina Gomes GMSGEO001"
   ]
  },
  {
   "cell_type": "markdown",
   "id": "1f39dab7-dd72-4e2b-a1af-7ebdef16ec41",
   "metadata": {},
   "source": [
    "Following the method of the previous slide and considering the backward Taylor\n",
    "expansion shown in eq. (20), write the first order approximation and truncation error of\n",
    "\n",
    "\n",
    "### $U(x − \\Delta x) =$\n",
    "\n",
    "\n",
    "Rearrange the equation to obtain the velocity gradient\n",
    "\n",
    "### $\\frac{\\partial U}{\\partial x} =$\n",
    "\n",
    "\n",
    "and show the backward in space numerical approximation (sometimes called\n",
    "upstream) using the discrete indices (define them accordingly)\n",
    "\n",
    "### $\\frac{\\partial U}{\\partial x} \\approx$"
   ]
  },
  {
   "cell_type": "markdown",
   "id": "809b6410-21f9-4dca-b92c-23f3f5e6354f",
   "metadata": {},
   "source": [
    "## First order approximation and truncation error of $U(x - \\Delta x)$:\n",
    "\n",
    "### $U(x - \\Delta x) = U(x) - \\frac{\\partial U}{\\partial x}\\Delta x + \\mathcal{O}(\\Delta x^2)$"
   ]
  },
  {
   "cell_type": "markdown",
   "id": "cad4956a-a21c-4eaa-ade8-792b4a4a7a40",
   "metadata": {},
   "source": [
    "## Rearranging this for $\\frac{\\partial U}{\\partial x}$:\n",
    "\n",
    "### $\\frac{\\partial U}{\\partial x} = \\frac{U(x) - U(x - \\Delta x) + \\mathcal{O}(\\Delta x^2)}{\\Delta x}$ => $\\frac{U(x) - U(x - \\Delta x)}{\\Delta x} + \\mathcal{O}(\\Delta x)$"
   ]
  },
  {
   "cell_type": "markdown",
   "id": "ae3da432-857a-4e1f-afc4-6c8c99983789",
   "metadata": {},
   "source": [
    "## Backward in space numerical approximation (also called upstream) using discrete indices:\n",
    "\n",
    "### $\\frac{\\partial U}{\\partial x} \\approx \\frac{{U_i}^n - {U^n}_{i-1}}{\\Delta x}$\n",
    "\n",
    "where\n",
    "- ${U_i}^n = U(x_i, t_n)$  \n",
    "- ${U^n}_{i-1} = U(x_i - \\Delta x, t_n)$\n",
    "- from discrete indices $x_i = x_0 + i\\Delta x$; $t_n = t_0 + n\\Delta t$ on a 2-dimensional discrete grid\n",
    "\n"
   ]
  },
  {
   "cell_type": "code",
   "execution_count": null,
   "id": "453e8d7d-8e00-47e2-a5ff-7b8afdc4f537",
   "metadata": {},
   "outputs": [],
   "source": []
  },
  {
   "cell_type": "code",
   "execution_count": null,
   "id": "768be24c-8688-4b22-94e9-0c0e1bff16bf",
   "metadata": {},
   "outputs": [],
   "source": []
  }
 ],
 "metadata": {
  "kernelspec": {
   "display_name": "Python 3 (ipykernel)",
   "language": "python",
   "name": "python3"
  },
  "language_info": {
   "codemirror_mode": {
    "name": "ipython",
    "version": 3
   },
   "file_extension": ".py",
   "mimetype": "text/x-python",
   "name": "python",
   "nbconvert_exporter": "python",
   "pygments_lexer": "ipython3",
   "version": "3.12.2"
  }
 },
 "nbformat": 4,
 "nbformat_minor": 5
}
