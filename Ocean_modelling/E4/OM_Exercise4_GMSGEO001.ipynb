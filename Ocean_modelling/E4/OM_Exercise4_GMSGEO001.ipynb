{
 "cells": [
  {
   "cell_type": "markdown",
   "id": "ce7f1ffd-6772-4790-af78-9fadfd2bc09a",
   "metadata": {},
   "source": [
    "# Exercise 4: Taylor Series Expansions\n",
    "\n",
    "Georgina Gomes GMSGEO001\n"
   ]
  },
  {
   "cell_type": "markdown",
   "id": "3d6dc3e5-8057-407f-bdfe-fcc658d8cf74",
   "metadata": {},
   "source": [
    "Taylor series expansion around $x = x_0$:\n",
    "\n",
    "$f(x) \\approx f(x_0) + f'(x_0)(x-x_0) + \\frac{f''(x_0)(x-x0)^{2}}{2!} + \\mathcal{O}((x-x_0)^{3})$"
   ]
  },
  {
   "cell_type": "markdown",
   "id": "6cb7ce95-225c-409d-8cfd-7d5683c2e1bb",
   "metadata": {},
   "source": [
    "## 1st Equation:\n",
    "\n",
    "$f(x) = \\frac{x}{x+1}$\n",
    "\n",
    "$f'(x) = \\frac{1}{(x+1)^{2}}$ (using quotient rule)\n",
    "\n",
    "$f''(x) = \\frac{-2}{(x+1)^{3}}$\n",
    "\n",
    "$f(x) \\approx \\frac{x_0}{x_0+1} + \\frac{(x-x_0)}{(x_0 + 1)^{2}} - \\frac{(x-x_0)^{2}}{(x_0+1)^{3}} + \\mathcal{O}((x-x_0)^{3})$"
   ]
  },
  {
   "cell_type": "markdown",
   "id": "c57a31e1-fc82-48b0-8996-22cb1ec59ea0",
   "metadata": {},
   "source": [
    "## 2nd Equation:\n",
    "\n",
    "$f(x) = \\frac{2x^{2}}{x^{4}} = \\frac{2}{x^{2}}$\n",
    "\n",
    "$f'(x) = -\\frac{4}{x^{3}}$\n",
    "\n",
    "$f''(x) = \\frac{12}{x^{4}}$\n",
    "\n",
    "$f(x) \\approx \\frac{2}{x_0^{2}} - \\frac{4(x-x_0)}{x_0^3} + \\frac{6(x-x_0)^2}{x_0^4} + \\mathcal{O}((x-x_0)^{3})$"
   ]
  },
  {
   "cell_type": "markdown",
   "id": "a7d74977-9f97-4c9d-83b7-0f6008fc8fe4",
   "metadata": {},
   "source": [
    "## 3rd Equation:\n",
    "\n",
    "$f(x) = \\ln(x^{2}) = 2\\ln(x)$\n",
    "\n",
    "$f'(x) = \\frac{2}{x}$\n",
    "\n",
    "$f''(x) = -\\frac{2}{x^{2}}$\n",
    "\n",
    "$f(x) \\approx 2\\ln(x_0) + \\frac{2(x-x_0)}{x_0} - \\frac{(x-x_0)^{2}}{x_0^{2}}$"
   ]
  },
  {
   "cell_type": "code",
   "execution_count": null,
   "id": "3a0e0d44-aab4-409f-9341-a20853c533cc",
   "metadata": {},
   "outputs": [],
   "source": []
  }
 ],
 "metadata": {
  "kernelspec": {
   "display_name": "Python 3 (ipykernel)",
   "language": "python",
   "name": "python3"
  },
  "language_info": {
   "codemirror_mode": {
    "name": "ipython",
    "version": 3
   },
   "file_extension": ".py",
   "mimetype": "text/x-python",
   "name": "python",
   "nbconvert_exporter": "python",
   "pygments_lexer": "ipython3",
   "version": "3.12.2"
  }
 },
 "nbformat": 4,
 "nbformat_minor": 5
}
